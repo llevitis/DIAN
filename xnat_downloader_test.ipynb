{
 "cells": [
  {
   "cell_type": "markdown",
   "metadata": {},
   "source": [
    "## Test XNAT Downloader"
   ]
  },
  {
   "cell_type": "code",
   "execution_count": 1,
   "metadata": {},
   "outputs": [],
   "source": [
    "%load_ext autoreload\n",
    "%autoreload 2\n",
    "from pyxnat import Interface\n",
    "import xmltodict\n",
    "import importlib\n",
    "import run\n",
    "from pyxnat import Inspector\n",
    "import os"
   ]
  },
  {
   "cell_type": "code",
   "execution_count": 2,
   "metadata": {},
   "outputs": [],
   "source": [
    "xnat = Interface(\n",
    "              server='https://cnda.wustl.edu',\n",
    "              user='iturriamedina',\n",
    "              password='sheresada',\n",
    "              cachedir='/tmp'\n",
    "              )"
   ]
  },
  {
   "cell_type": "code",
   "execution_count": 3,
   "metadata": {},
   "outputs": [
    {
     "data": {
      "text/plain": [
       "True"
      ]
     },
     "execution_count": 3,
     "metadata": {},
     "output_type": "execute_result"
    }
   ],
   "source": [
    "project = 'DIANDF11'\n",
    "subject = 'CNDA_S26355'\n",
    "proj_obj = xnat.select.project(project)\n",
    "proj_obj.exists()"
   ]
  },
  {
   "cell_type": "code",
   "execution_count": 4,
   "metadata": {},
   "outputs": [],
   "source": [
    "testSub = run.Subject(proj_obj, subject)"
   ]
  },
  {
   "cell_type": "code",
   "execution_count": 5,
   "metadata": {},
   "outputs": [],
   "source": [
    "testSub.get_sessions()"
   ]
  },
  {
   "cell_type": "code",
   "execution_count": 6,
   "metadata": {},
   "outputs": [
    {
     "data": {
      "text/plain": [
       "{'ZJVKU1_v00_fdg': <Experiment Object> CNDA_E112287,\n",
       " 'ZJVKU1_v00_mr': <Experiment Object> CNDA_E101573,\n",
       " 'ZJVKU1_v00_pib': <Experiment Object> CNDA_E112292,\n",
       " 'ZJVKU1_v03_fdg': <Experiment Object> CNDA_E109491,\n",
       " 'ZJVKU1_v03_mr': <Experiment Object> CNDA_E101575,\n",
       " 'ZJVKU1_v03_pib': <Experiment Object> CNDA_E109468}"
      ]
     },
     "execution_count": 6,
     "metadata": {},
     "output_type": "execute_result"
    }
   ],
   "source": [
    "testSub.ses_dict"
   ]
  },
  {
   "cell_type": "code",
   "execution_count": 18,
   "metadata": {},
   "outputs": [],
   "source": [
    "testSub.get_scans(testSub.ses_dict.keys()[5])"
   ]
  },
  {
   "cell_type": "code",
   "execution_count": 19,
   "metadata": {},
   "outputs": [
    {
     "data": {
      "text/plain": [
       "{'Axial T2-FLAIR': <Scan Object> 6,\n",
       " 'LOCALIZER': <Scan Object> 1,\n",
       " 'MPRAGE GRAPPA2': <Scan Object> 3,\n",
       " 'MPRAGE GRAPPA2 repeat': <Scan Object> 5,\n",
       " 'Mag_Images': <Scan Object> 7,\n",
       " 'MoCoSeries': <Scan Object> 12,\n",
       " 'Pha_Images': <Scan Object> 8,\n",
       " 'SWI_Images': <Scan Object> 10,\n",
       " 'mIP_Images(SW)': <Scan Object> 9,\n",
       " 'resting state fMRI': <Scan Object> 11}"
      ]
     },
     "execution_count": 19,
     "metadata": {},
     "output_type": "execute_result"
    }
   ],
   "source": [
    "testSub.scan_dict"
   ]
  },
  {
   "cell_type": "code",
   "execution_count": 20,
   "metadata": {},
   "outputs": [
    {
     "name": "stdout",
     "output_type": "stream",
     "text": [
      "\n",
      "                  dicoms were already found in the output directory: ~/DIAN/testDownload/sourcedata/ZJVKU1_v00_mr/scans/11-resting_state_fMRI/resources/DICOM/files/ZJVKU1.MR.DIANDF.11.118.20090126.164508.q35gsu.dcm\n",
      "                  \n",
      "the dcm dir is ~/DIAN/testDownload/sourcedata/ZJVKU1_v00_mr/scans/11-resting_state_fMRI\n"
     ]
    }
   ],
   "source": [
    "scan = \"resting state fMRI\"\n",
    "dest = '~/DIAN/testDownload'\n",
    "scan_repl_dict = {\n",
    "                    \"resting state fMRI\": \"func-bold_task-rest\",\n",
    "                    \"MPRAGE GRAPPA2\": \"anat-T1w\",\n",
    "                    \"DTI\": \"dwi\",\n",
    "                }\n",
    "bids_num_len = 3\n",
    "testSub.download_scan_unformatted(scan, dest, scan_repl_dict, bids_num_len)"
   ]
  },
  {
   "cell_type": "code",
   "execution_count": null,
   "metadata": {},
   "outputs": [],
   "source": []
  },
  {
   "cell_type": "code",
   "execution_count": null,
   "metadata": {},
   "outputs": [],
   "source": []
  }
 ],
 "metadata": {
  "kernelspec": {
   "display_name": "Python 2",
   "language": "python",
   "name": "python2"
  },
  "language_info": {
   "codemirror_mode": {
    "name": "ipython",
    "version": 2
   },
   "file_extension": ".py",
   "mimetype": "text/x-python",
   "name": "python",
   "nbconvert_exporter": "python",
   "pygments_lexer": "ipython2",
   "version": "2.7.15"
  }
 },
 "nbformat": 4,
 "nbformat_minor": 2
}
