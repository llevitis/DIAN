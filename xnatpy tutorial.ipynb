{
 "cells": [
  {
   "cell_type": "markdown",
   "metadata": {},
   "source": [
    "# xnatpy: a pythonic feeling interface to XNAT"
   ]
  },
  {
   "cell_type": "markdown",
   "metadata": {},
   "source": [
    "xnatpy attempts to expose objects in XNAT as native feeling Python objects. The objects reflect the state of XNAT and changes to the objects automatically update the server.\n",
    "\n",
    "To facilitate this xnatpy scans the server xnat.xsd and creates a Python class structure to mimic this is well as possible.\n",
    "\n",
    "Current features:\n",
    "* automatic generate of most data structures from the xnat.xsd\n",
    "* easy exploration of data\n",
    "* easy getting/setting of custom variables\n",
    "* easy downloading/uploading of data\n",
    "* using the prearchive\n",
    "* the import service\n",
    "\n",
    "Missing features (aka my TODO list):\n",
    "* good support for the creation of objects\n",
    "* good support for searches"
   ]
  },
  {
   "cell_type": "markdown",
   "metadata": {},
   "source": [
    "### Some imports and helper code used later on"
   ]
  },
  {
   "cell_type": "code",
   "execution_count": 1,
   "metadata": {
    "collapsed": true
   },
   "outputs": [],
   "source": [
    "import os\n",
    "import random"
   ]
  },
  {
   "cell_type": "markdown",
   "metadata": {},
   "source": [
    "## getting started\n",
    "\n",
    "First we need to set up an xnatpy session. \n",
    "The session scans the xnat.xsd, creates classes,\n",
    "logs in into XNAT, and keeps the connection alive\n",
    "using a hearbeat."
   ]
  },
  {
   "cell_type": "code",
   "execution_count": 2,
   "metadata": {
    "collapsed": false
   },
   "outputs": [
    {
     "name": "stdout",
     "output_type": "stream",
     "text": [
      "[INFO] Retrieving schema from https://central.xnat.org/schemas/xnat/xnat.xsd\n"
     ]
    }
   ],
   "source": [
    "import xnat\n",
    "session = xnat.connect('https://central.xnat.org', user='nosetests', password='nose2016')"
   ]
  },
  {
   "cell_type": "markdown",
   "metadata": {},
   "source": [
    "To save your login you set up a .netrc file with the correct information about the target host.\n",
    "A simple example of a .netrc file can be found at  [http://www.mavetju.org/unix/netrc.php](http://www.mavetju.org/unix/netrc.php).\n",
    "\n",
    "It is possible to set the login information on connect without using a netrc file."
   ]
  },
  {
   "cell_type": "code",
   "execution_count": 3,
   "metadata": {
    "collapsed": true
   },
   "outputs": [],
   "source": [
    "xnat.connect?"
   ]
  },
  {
   "cell_type": "markdown",
   "metadata": {},
   "source": [
    "The session is the main entry point for the module. It exposes part of the archive as objects."
   ]
  },
  {
   "cell_type": "code",
   "execution_count": 4,
   "metadata": {
    "collapsed": false
   },
   "outputs": [
    {
     "name": "stdout",
     "output_type": "stream",
     "text": [
      "<ProjectData nosetests>\n"
     ]
    }
   ],
   "source": [
    "sandbox = session.projects['nosetests']\n",
    "print(sandbox)"
   ]
  },
  {
   "cell_type": "code",
   "execution_count": 5,
   "metadata": {
    "collapsed": false
   },
   "outputs": [
    {
     "data": {
      "text/plain": [
       "'Random_project_description_89'"
      ]
     },
     "execution_count": 5,
     "metadata": {},
     "output_type": "execute_result"
    }
   ],
   "source": [
    "sandbox.description"
   ]
  },
  {
   "cell_type": "code",
   "execution_count": 6,
   "metadata": {
    "collapsed": false,
    "scrolled": true
   },
   "outputs": [
    {
     "name": "stdout",
     "output_type": "stream",
     "text": [
      "Changing description to: Random_project_description_36\n"
     ]
    }
   ],
   "source": [
    "new_description = 'Random_project_description_{}'.format(random.randint(0, 100))\n",
    "print('Changing description to: {}'.format(new_description))\n",
    "sandbox.description = new_description"
   ]
  },
  {
   "cell_type": "code",
   "execution_count": 7,
   "metadata": {
    "collapsed": false
   },
   "outputs": [
    {
     "data": {
      "text/plain": [
       "'Random_project_description_36'"
      ]
     },
     "execution_count": 7,
     "metadata": {},
     "output_type": "execute_result"
    }
   ],
   "source": [
    "sandbox.description"
   ]
  },
  {
   "cell_type": "code",
   "execution_count": 8,
   "metadata": {
    "collapsed": false,
    "scrolled": false
   },
   "outputs": [
    {
     "data": {
      "text/plain": [
       "<XNATListing (CENTRAL_S04325, 5f45e50ffe5311e49e3fa8206633b88a): <SubjectData CENTRAL_S04325>, (CENTRAL_S04322, 8fc8b382fe4b11e49807a8206633b88a): <SubjectData CENTRAL_S04322>, (CENTRAL_S04328, a48e25c7fe5411e4bc06a8206633b88a): <SubjectData CENTRAL_S04328>, (CENTRAL_S01861, hobbit): <SubjectData CENTRAL_S01861>, (CENTRAL_S04346, 0bd89ea3ff2011e4a9d6a8206633b88a): <SubjectData CENTRAL_S04346>, (CENTRAL_S04361, 91738c8cff2211e496cfa8206633b88a): <SubjectData CENTRAL_S04361>, (515502d2da9111df848d001c2304e1df, 515502d2da9111df848d001c2304e1df): <SubjectData 515502d2da9111df848d001c2304e1df>, (CENTRAL_S04364, ade2a647ff2211e4bbc3a8206633b88a): <SubjectData CENTRAL_S04364>, (CENTRAL_S04343, 8b20cf97fe5911e48cf7a8206633b88a): <SubjectData CENTRAL_S04343>, (CENTRAL_S04340, 947d6466fe5711e4b11fa8206633b88a): <SubjectData CENTRAL_S04340>, (CENTRAL_S04367, 103626e3ff2311e4b620a8206633b88a): <SubjectData CENTRAL_S04367>, (NOSETESTS_001, label_001): <SubjectData NOSETESTS_001>, (CENTRAL_S04349, a3555faeff2011e4887ba8206633b88a): <SubjectData CENTRAL_S04349>, (52837ec6dc2c11df9f84001c2304e1df, 52837ec6dc2c11df9f84001c2304e1df): <SubjectData 52837ec6dc2c11df9f84001c2304e1df>, (CENTRAL_S04385, 62b2e75effe611e48c79a8206633b88a): <SubjectData CENTRAL_S04385>, (CENTRAL_S04388, 1394bb33fff211e495dda8206633b88a): <SubjectData CENTRAL_S04388>, (TEST_17b3c736cf7b11e5a236002590fa7a35, 17b3c736cf7b11e5a236002590fa7a35): <SubjectData TEST_17b3c736cf7b11e5a236002590fa7a35>, (CENTRAL_S04726, acfb52baf08611e59c3590b11c934378): <SubjectData CENTRAL_S04726>, (1823ca18cf7b11e5a236002590fa7a35, 1823ca18cf7b11e5a236002590fa7a35): <SubjectData 1823ca18cf7b11e5a236002590fa7a35>, (71e5111edc3411df85f7001c2304e1df, 71e5111edc3411df85f7001c2304e1df): <SubjectData 71e5111edc3411df85f7001c2304e1df>, (CENTRAL_S01728, sync): <SubjectData CENTRAL_S01728>, (CENTRAL_S01487, pouette): <SubjectData CENTRAL_S01487>, (CENTRAL_S04331, c306da21fe5411e49004a8206633b88a): <SubjectData CENTRAL_S04331>, (CENTRAL_S04337, 1827627dfe5711e4af1da8206633b88a): <SubjectData CENTRAL_S04337>, (1931cc3ecf7b11e5a236002590fa7a35, 1931cc3ecf7b11e5a236002590fa7a35): <SubjectData 1931cc3ecf7b11e5a236002590fa7a35>, (CENTRAL_S04334, 3c6273f3fe5511e4b12ca8206633b88a): <SubjectData CENTRAL_S04334>, (CENTRAL_S04370, 91923123ff2311e4987da8206633b88a): <SubjectData CENTRAL_S04370>, (CENTRAL_S04355, 81eff1a3ff2111e4a0f6a8206633b88a): <SubjectData CENTRAL_S04355>, (CENTRAL_S04432, 9b89e0b057c411e58852958d044d6d95): <SubjectData CENTRAL_S04432>, (CENTRAL_S04433, 9b89e8f857c411e58852958d044d6d95): <SubjectData CENTRAL_S04433>, (CENTRAL_S04434, a7ad296057c411e5adedb927f1dd1f69): <SubjectData CENTRAL_S04434>, (CENTRAL_S04435, a7ad359a57c411e5adedb927f1dd1f69): <SubjectData CENTRAL_S04435>, (CENTRAL_S04352, 3a9f7eb3ff2111e48e3ba8206633b88a): <SubjectData CENTRAL_S04352>, (CENTRAL_S03260, NOSETESTS_099): <SubjectData CENTRAL_S03260>, (CENTRAL_S04358, 8f91a730ff2111e48e65a8206633b88a): <SubjectData CENTRAL_S04358>, (CENTRAL_S01816, pouet): <SubjectData CENTRAL_S01816>, (CENTRAL_S04718, b5f7acd4cf7911e58e4e002590fa7a35): <SubjectData CENTRAL_S04718>, (CENTRAL_S01802, resource_test): <SubjectData CENTRAL_S01802>, (CENTRAL_S01860, A): <SubjectData CENTRAL_S01860>, (CENTRAL_S03275, TEST_subj001): <SubjectData CENTRAL_S03275>, (CENTRAL_S01862, bla_subject): <SubjectData CENTRAL_S01862>, (f6764810dc4a11dfb7e6001c2304e1df, f6764810dc4a11dfb7e6001c2304e1df): <SubjectData f6764810dc4a11dfb7e6001c2304e1df>, (CENTRAL_S04714, bd915db2cac111e5b9ad002590fa7a35): <SubjectData CENTRAL_S04714>, (8d6143c4dc4b11df905e001c2304e1df, 8d6143c4dc4b11df905e001c2304e1df): <SubjectData 8d6143c4dc4b11df905e001c2304e1df>, (CENTRAL_S01824, custom_label): <SubjectData CENTRAL_S01824>, (CENTRAL_S01803, workflow_test): <SubjectData CENTRAL_S01803>, (CENTRAL_S04769, pyxnat2016): <SubjectData CENTRAL_S04769>>"
      ]
     },
     "execution_count": 8,
     "metadata": {},
     "output_type": "execute_result"
    }
   ],
   "source": [
    "# Get a list of the subjects\n",
    "sandbox.subjects"
   ]
  },
  {
   "cell_type": "markdown",
   "metadata": {},
   "source": [
    "Note that the entries are in the form `(CENTRAL_S01824, custom_label): <SubjectData CENTRAL_S01824>`. This does not mean that the key is `(CENTRAL_S01824, custom_label)`, but that both the keys `CENTRAL_S01824` and `custom_label` can be used for lookup. The first key is always the XNAT internal id, the second key is defined as:\n",
    "* project: the name\n",
    "* subject: the label\n",
    "* experiment: the label\n",
    "* scan: the scantype\n",
    "* resource: label\n",
    "* file: filename"
   ]
  },
  {
   "cell_type": "code",
   "execution_count": 9,
   "metadata": {
    "collapsed": true
   },
   "outputs": [],
   "source": [
    "subject = sandbox.subjects['bla_subject']"
   ]
  },
  {
   "cell_type": "code",
   "execution_count": 10,
   "metadata": {
    "collapsed": false
   },
   "outputs": [
    {
     "name": "stdout",
     "output_type": "stream",
     "text": [
      "Before change:\n",
      "Gender: female\n",
      "Initials: PI\n",
      "After change:\n",
      "Gender: male\n",
      "Initials: JC\n"
     ]
    }
   ],
   "source": [
    "print('Before change:')\n",
    "print('Gender: {}'.format(subject.demographics.gender))\n",
    "print('Initials: {}'.format(subject.initials))\n",
    "\n",
    "# Change gender and initials. Flip them between male and female and JC and PI\n",
    "subject.demographics.gender = 'female' if subject.demographics.gender == 'male' else 'male'\n",
    "subject.initials = 'JC' if subject.initials == 'PI' else 'PI'\n",
    "\n",
    "print('After change:')\n",
    "print('Gender: {}'.format(subject.demographics.gender))\n",
    "print('Initials: {}'.format(subject.initials))"
   ]
  },
  {
   "cell_type": "markdown",
   "metadata": {},
   "source": [
    "There is some basic value checking before assignment are carried out. It uses the xsd directives when available. For example:"
   ]
  },
  {
   "cell_type": "code",
   "execution_count": 11,
   "metadata": {
    "collapsed": false,
    "scrolled": true
   },
   "outputs": [
    {
     "ename": "ValueError",
     "evalue": "gender has to be one of: \"male\", \"female\", \"other\", \"unknown\", \"M\", \"F\"",
     "output_type": "error",
     "traceback": [
      "\u001b[1;31m---------------------------------------------------------------------\u001b[0m",
      "\u001b[1;31mValueError\u001b[0m                          Traceback (most recent call last)",
      "\u001b[1;32m<ipython-input-11-ef509675a021>\u001b[0m in \u001b[0;36m<module>\u001b[1;34m()\u001b[0m\n\u001b[1;32m----> 1\u001b[1;33m \u001b[0msubject\u001b[0m\u001b[1;33m.\u001b[0m\u001b[0mdemographics\u001b[0m\u001b[1;33m.\u001b[0m\u001b[0mgender\u001b[0m \u001b[1;33m=\u001b[0m \u001b[1;34m'martian'\u001b[0m\u001b[1;33m\u001b[0m\u001b[0m\n\u001b[0m",
      "\u001b[1;32m/tmp/tmp9LFxKr_generated_xnat.py\u001b[0m in \u001b[0;36mgender\u001b[1;34m(self, value)\u001b[0m\n\u001b[0;32m   6971\u001b[0m         \u001b[1;31m# Restrictions for value\u001b[0m\u001b[1;33m\u001b[0m\u001b[1;33m\u001b[0m\u001b[0m\n\u001b[0;32m   6972\u001b[0m         \u001b[1;32mif\u001b[0m \u001b[0mvalue\u001b[0m \u001b[1;32mnot\u001b[0m \u001b[1;32min\u001b[0m \u001b[1;33m[\u001b[0m\u001b[1;34m\"male\"\u001b[0m\u001b[1;33m,\u001b[0m \u001b[1;34m\"female\"\u001b[0m\u001b[1;33m,\u001b[0m \u001b[1;34m\"other\"\u001b[0m\u001b[1;33m,\u001b[0m \u001b[1;34m\"unknown\"\u001b[0m\u001b[1;33m,\u001b[0m \u001b[1;34m\"M\"\u001b[0m\u001b[1;33m,\u001b[0m \u001b[1;34m\"F\"\u001b[0m\u001b[1;33m]\u001b[0m\u001b[1;33m:\u001b[0m\u001b[1;33m\u001b[0m\u001b[0m\n\u001b[1;32m-> 6973\u001b[1;33m             \u001b[1;32mraise\u001b[0m \u001b[0mValueError\u001b[0m\u001b[1;33m(\u001b[0m\u001b[1;34m'gender has to be one of: \"male\", \"female\", \"other\", \"unknown\", \"M\", \"F\"'\u001b[0m\u001b[1;33m)\u001b[0m\u001b[1;33m\u001b[0m\u001b[0m\n\u001b[0m\u001b[0;32m   6974\u001b[0m \u001b[1;33m\u001b[0m\u001b[0m\n\u001b[0;32m   6975\u001b[0m         \u001b[1;31m# Generate automatically, type: xs:string\u001b[0m\u001b[1;33m\u001b[0m\u001b[1;33m\u001b[0m\u001b[0m\n",
      "\u001b[1;31mValueError\u001b[0m: gender has to be one of: \"male\", \"female\", \"other\", \"unknown\", \"M\", \"F\""
     ]
    }
   ],
   "source": [
    "subject.demographics.gender = 'martian'"
   ]
  },
  {
   "cell_type": "markdown",
   "metadata": {},
   "source": [
    "## Custom Variables\n",
    "\n",
    "In xnatpy custom variables are exposed as a simple mapping type that is very similar to a dictionary."
   ]
  },
  {
   "cell_type": "code",
   "execution_count": 12,
   "metadata": {
    "collapsed": false
   },
   "outputs": [
    {
     "name": "stdout",
     "output_type": "stream",
     "text": [
      "<VariableMap {u'test_field': u'1337'}>\n"
     ]
    }
   ],
   "source": [
    "print(subject.fields)"
   ]
  },
  {
   "cell_type": "code",
   "execution_count": 13,
   "metadata": {
    "collapsed": false
   },
   "outputs": [
    {
     "name": "stdout",
     "output_type": "stream",
     "text": [
      "<VariableMap {u'test_field': u'42'}>\n"
     ]
    }
   ],
   "source": [
    "# Add something\n",
    "subject.fields['test_field'] = 42\n",
    "print(subject.fields)"
   ]
  },
  {
   "cell_type": "code",
   "execution_count": 14,
   "metadata": {
    "collapsed": false,
    "scrolled": true
   },
   "outputs": [
    {
     "data": {
      "text/plain": [
       "u'42'"
      ]
     },
     "execution_count": 14,
     "metadata": {},
     "output_type": "execute_result"
    }
   ],
   "source": [
    "subject.fields['test_field']"
   ]
  },
  {
   "cell_type": "markdown",
   "metadata": {},
   "source": [
    "Note that custom variables are always stored as string in the database. So the value is always casted to a string. Also the length of a value is limited because they are passed on the requested url.\n",
    "\n",
    "The custom variables are by default not visible in the UI, there are special settings in the UI to make them appear. Defined variables in the UI that are not set, are just not appearing in the fields dictionary.\n",
    "\n",
    "To avoid `KeyError`, it would be best to use `subject.fields.get('field_name')` which returns None when not available."
   ]
  },
  {
   "cell_type": "markdown",
   "metadata": {},
   "source": [
    "### Downloading stuff\n",
    "\n",
    "Downloading with xnatpy is fairly simple. Most objects that are downloadable have a `.download` method. There is also a `download_dir` method that downloads the zip and unpacks it to the target directory."
   ]
  },
  {
   "cell_type": "code",
   "execution_count": 15,
   "metadata": {
    "collapsed": false
   },
   "outputs": [
    {
     "name": "stdout",
     "output_type": "stream",
     "text": [
      "Using /home/hachterberg/xnatpy_temp as download directory\n",
      "Downloaded subject to /home/hachterberg/xnatpy_temp/515502d2da9111df848d001c2304e1df\n"
     ]
    }
   ],
   "source": [
    "download_dir = os.path.expanduser('~/xnatpy_temp')\n",
    "print('Using {} as download directory'.format(download_dir))\n",
    "if not os.path.exists(download_dir):\n",
    "    os.makedirs(download_dir)\n",
    "sandbox.subjects['515502d2da9111df848d001c2304e1df'].download_dir(download_dir)"
   ]
  },
  {
   "cell_type": "markdown",
   "metadata": {},
   "source": [
    "### Close the session!"
   ]
  },
  {
   "cell_type": "code",
   "execution_count": 16,
   "metadata": {
    "collapsed": true
   },
   "outputs": [],
   "source": [
    "# Don't forget to disconnect to close cleanly and clean up temporary things!\n",
    "session.disconnect()"
   ]
  },
  {
   "cell_type": "markdown",
   "metadata": {},
   "source": [
    "## Context operator\n",
    "\n",
    "It is also possible to use xnatpy in a context, which guarantees clean closure of the connections etc."
   ]
  },
  {
   "cell_type": "code",
   "execution_count": null,
   "metadata": {
    "collapsed": false
   },
   "outputs": [],
   "source": [
    "with xnat.connect('https://central.xnat.org', user='nosetests', password='nose2016') as session:\n",
    "    print('Nosetests project description: {}'.format(session.projects['nosetests'].description))\n",
    "    \n",
    "# Here the session will be closed properly, even if there were exceptions within the `with` context"
   ]
  },
  {
   "cell_type": "markdown",
   "metadata": {},
   "source": [
    "## Ideas for the future\n",
    "\n",
    "Currently I am thinking on two different additions and how to implement that best.\n",
    "* Creation of new objects\n",
    "* XNAT searches\n",
    "\n",
    "This illustrates my current ideas, but these are not implemented yet. If you have an opinion about this, let me know!"
   ]
  },
  {
   "cell_type": "markdown",
   "metadata": {},
   "source": [
    "#### Object creation"
   ]
  },
  {
   "cell_type": "raw",
   "metadata": {},
   "source": [
    "xnat.SubjectData(parent=projectA, initials='X')"
   ]
  },
  {
   "cell_type": "markdown",
   "metadata": {},
   "source": [
    "or alternatively"
   ]
  },
  {
   "cell_type": "raw",
   "metadata": {},
   "source": [
    "projectA.subjects['subjectX'] = xnat.SubjectData(initials='X')"
   ]
  },
  {
   "cell_type": "markdown",
   "metadata": {},
   "source": [
    "#### Searches\n",
    "\n",
    "The idea is to create something similar to SQLAlchemy"
   ]
  },
  {
   "cell_type": "raw",
   "metadata": {},
   "source": [
    "xnat.MrSessionData.query(session).filter(xnat.MrSessionData.age > 65, xnat.MrSessionData.age <= 80).all()"
   ]
  }
 ],
 "metadata": {
  "kernelspec": {
   "display_name": "Python 2",
   "language": "python",
   "name": "python2"
  },
  "language_info": {
   "codemirror_mode": {
    "name": "ipython",
    "version": 2
   },
   "file_extension": ".py",
   "mimetype": "text/x-python",
   "name": "python",
   "nbconvert_exporter": "python",
   "pygments_lexer": "ipython2",
   "version": "2.7.15"
  }
 },
 "nbformat": 4,
 "nbformat_minor": 2
}
