{
 "cells": [
  {
   "cell_type": "markdown",
   "metadata": {},
   "source": [
    "## Scripts to download DIAN data using XNAT's REST API & XNATpy"
   ]
  },
  {
   "cell_type": "code",
   "execution_count": 2,
   "metadata": {},
   "outputs": [],
   "source": [
    "import xnat"
   ]
  },
  {
   "cell_type": "code",
   "execution_count": 11,
   "metadata": {},
   "outputs": [],
   "source": [
    "#session = xnat.connect('https://cnda.wustl.edu', user='iturriamedina', password='sheresada')\n",
    "session = xnat.connect('https://central.xnat.org', user='xnatpydemo', password='demo2017')"
   ]
  },
  {
   "cell_type": "code",
   "execution_count": 12,
   "metadata": {},
   "outputs": [
    {
     "name": "stdout",
     "output_type": "stream",
     "text": [
      "<Response [200]>\n",
      "\n",
      "\n",
      "\n",
      "{\"ResultSet\":{\"Result\":[{\"insert_date\":\"2017-10-15 09:05:36.025\",\"project\":\"xnatpydemo\",\"ID\":\"CENTRAL_S06138\",\"label\":\"Case001\",\"insert_user\":\"xnatpydemo\",\"URI\":\"/data/subjects/CENTRAL_S06138\"},{\"insert_date\":\"2017-10-15 10:22:35.673\",\"project\":\"xnatpydemo\",\"ID\":\"CENTRAL_S06139\",\"label\":\"archive_subject_489\",\"insert_user\":\"xnatpydemo\",\"URI\":\"/data/subjects/CENTRAL_S06139\"},{\"insert_date\":\"2017-10-15 10:23:40.707\",\"project\":\"xnatpydemo\",\"ID\":\"CENTRAL_S06140\",\"label\":\"archive_subject_981\",\"insert_user\":\"xnatpydemo\",\"URI\":\"/data/subjects/CENTRAL_S06140\"},{\"insert_date\":\"2017-10-15 08:56:12.551\",\"project\":\"xnatpydemo\",\"ID\":\"CENTRAL_S06137\",\"label\":\"subject001\",\"insert_user\":\"xnatpydemo\",\"URI\":\"/data/subjects/CENTRAL_S06137\"},{\"insert_date\":\"2017-10-15 10:25:19.826\",\"project\":\"xnatpydemo\",\"ID\":\"CENTRAL_S06141\",\"label\":\"archive_subject_158\",\"insert_user\":\"xnatpydemo\",\"URI\":\"/data/subjects/CENTRAL_S06141\"},{\"insert_date\":\"2017-10-16 05:21:11.484\",\"project\":\"xnatpydemo\",\"ID\":\"CENTRAL_S06142\",\"label\":\"archive_subject_520\",\"insert_user\":\"xnatpydemo\",\"URI\":\"/data/subjects/CENTRAL_S06142\"},{\"insert_date\":\"2017-10-16 08:45:33.963\",\"project\":\"xnatpydemo\",\"ID\":\"CENTRAL_S06143\",\"label\":\"archive_subject_717\",\"insert_user\":\"xnatpydemo\",\"URI\":\"/data/subjects/CENTRAL_S06143\"},{\"insert_date\":\"2017-10-16 08:47:01.78\",\"project\":\"xnatpydemo\",\"ID\":\"CENTRAL_S06144\",\"label\":\"archive_subject_411\",\"insert_user\":\"xnatpydemo\",\"URI\":\"/data/subjects/CENTRAL_S06144\"}], \"totalRecords\": \"8\"}}\n",
      "\n",
      "\n",
      "\n",
      "{'ResultSet': {'Result': [{'insert_date': '2017-10-15 09:05:36.025', 'project': 'xnatpydemo', 'ID': 'CENTRAL_S06138', 'label': 'Case001', 'insert_user': 'xnatpydemo', 'URI': '/data/subjects/CENTRAL_S06138'}, {'insert_date': '2017-10-15 10:22:35.673', 'project': 'xnatpydemo', 'ID': 'CENTRAL_S06139', 'label': 'archive_subject_489', 'insert_user': 'xnatpydemo', 'URI': '/data/subjects/CENTRAL_S06139'}, {'insert_date': '2017-10-15 10:23:40.707', 'project': 'xnatpydemo', 'ID': 'CENTRAL_S06140', 'label': 'archive_subject_981', 'insert_user': 'xnatpydemo', 'URI': '/data/subjects/CENTRAL_S06140'}, {'insert_date': '2017-10-15 08:56:12.551', 'project': 'xnatpydemo', 'ID': 'CENTRAL_S06137', 'label': 'subject001', 'insert_user': 'xnatpydemo', 'URI': '/data/subjects/CENTRAL_S06137'}, {'insert_date': '2017-10-15 10:25:19.826', 'project': 'xnatpydemo', 'ID': 'CENTRAL_S06141', 'label': 'archive_subject_158', 'insert_user': 'xnatpydemo', 'URI': '/data/subjects/CENTRAL_S06141'}, {'insert_date': '2017-10-16 05:21:11.484', 'project': 'xnatpydemo', 'ID': 'CENTRAL_S06142', 'label': 'archive_subject_520', 'insert_user': 'xnatpydemo', 'URI': '/data/subjects/CENTRAL_S06142'}, {'insert_date': '2017-10-16 08:45:33.963', 'project': 'xnatpydemo', 'ID': 'CENTRAL_S06143', 'label': 'archive_subject_717', 'insert_user': 'xnatpydemo', 'URI': '/data/subjects/CENTRAL_S06143'}, {'insert_date': '2017-10-16 08:47:01.78', 'project': 'xnatpydemo', 'ID': 'CENTRAL_S06144', 'label': 'archive_subject_411', 'insert_user': 'xnatpydemo', 'URI': '/data/subjects/CENTRAL_S06144'}], 'totalRecords': '8'}}\n"
     ]
    }
   ],
   "source": [
    "response = session.get('/data/projects/xnatpydemo/subjects')\n",
    "print(response)\n",
    "print('\\n\\n')\n",
    "print(response.text)\n",
    "print('\\n\\n')\n",
    "print(session.get_json('/data/projects/xnatpydemo/subjects'))"
   ]
  },
  {
   "cell_type": "code",
   "execution_count": 13,
   "metadata": {},
   "outputs": [],
   "source": [
    "sandbox = session.projects['xnatpydemo']"
   ]
  },
  {
   "cell_type": "code",
   "execution_count": 14,
   "metadata": {},
   "outputs": [
    {
     "name": "stdout",
     "output_type": "stream",
     "text": [
      "<ProjectData xnatpydemo>\n"
     ]
    }
   ],
   "source": [
    "print(sandbox)"
   ]
  },
  {
   "cell_type": "code",
   "execution_count": 15,
   "metadata": {},
   "outputs": [
    {
     "data": {
      "text/plain": [
       "'Random_project_description_46'"
      ]
     },
     "execution_count": 15,
     "metadata": {},
     "output_type": "execute_result"
    }
   ],
   "source": [
    "sandbox.description"
   ]
  },
  {
   "cell_type": "code",
   "execution_count": 16,
   "metadata": {},
   "outputs": [],
   "source": [
    "sandbox.description = 'Random project description 76'"
   ]
  },
  {
   "cell_type": "code",
   "execution_count": 17,
   "metadata": {},
   "outputs": [
    {
     "data": {
      "text/plain": [
       "'Random project description 76'"
      ]
     },
     "execution_count": 17,
     "metadata": {},
     "output_type": "execute_result"
    }
   ],
   "source": [
    "sandbox.description"
   ]
  },
  {
   "cell_type": "code",
   "execution_count": 18,
   "metadata": {},
   "outputs": [
    {
     "data": {
      "text/plain": [
       "<XNATListing {(CENTRAL_S06138, Case001): <SubjectData Case001>, (CENTRAL_S06139, archive_subject_489): <SubjectData archive_subject_489>, (CENTRAL_S06140, archive_subject_981): <SubjectData archive_subject_981>, (CENTRAL_S06137, subject001): <SubjectData subject001>, (CENTRAL_S06141, archive_subject_158): <SubjectData archive_subject_158>, (CENTRAL_S06142, archive_subject_520): <SubjectData archive_subject_520>, (CENTRAL_S06143, archive_subject_717): <SubjectData archive_subject_717>, (CENTRAL_S06144, archive_subject_411): <SubjectData archive_subject_411>}>"
      ]
     },
     "execution_count": 18,
     "metadata": {},
     "output_type": "execute_result"
    }
   ],
   "source": [
    "sandbox.subjects"
   ]
  },
  {
   "cell_type": "code",
   "execution_count": 19,
   "metadata": {},
   "outputs": [],
   "source": [
    "subject = sandbox.subjects['subject001']"
   ]
  },
  {
   "cell_type": "code",
   "execution_count": 20,
   "metadata": {},
   "outputs": [
    {
     "name": "stdout",
     "output_type": "stream",
     "text": [
      "Before change:\n"
     ]
    }
   ],
   "source": [
    "print('Before change:')"
   ]
  },
  {
   "cell_type": "code",
   "execution_count": 21,
   "metadata": {},
   "outputs": [
    {
     "name": "stdout",
     "output_type": "stream",
     "text": [
      "Gender: male\n"
     ]
    }
   ],
   "source": [
    "print('Gender: {}'.format(subject.demographics.gender))"
   ]
  },
  {
   "cell_type": "code",
   "execution_count": 23,
   "metadata": {},
   "outputs": [
    {
     "name": "stdout",
     "output_type": "stream",
     "text": [
      "Initials: JC\n",
      "After change:\n",
      "Gender: female\n",
      "Initials: PI\n"
     ]
    }
   ],
   "source": [
    "print('Initials: {}'.format(subject.initials))\n",
    "#Change gender and initials. flip them between male and female\n",
    "subject.demographics.gender = 'female' if subject.demographics.gender == 'male' else 'male'\n",
    "subject.initials = 'JC' if subject.initials == 'PI' else 'PI'\n",
    "\n",
    "print('After change:')\n",
    "print('Gender: {}'.format(subject.demographics.gender))\n",
    "print('Initials: {}'.format(subject.initials))"
   ]
  },
  {
   "cell_type": "code",
   "execution_count": null,
   "metadata": {},
   "outputs": [],
   "source": []
  }
 ],
 "metadata": {
  "kernelspec": {
   "display_name": "Python 3",
   "language": "python",
   "name": "python3"
  },
  "language_info": {
   "codemirror_mode": {
    "name": "ipython",
    "version": 3
   },
   "file_extension": ".py",
   "mimetype": "text/x-python",
   "name": "python",
   "nbconvert_exporter": "python",
   "pygments_lexer": "ipython3",
   "version": "3.6.3"
  }
 },
 "nbformat": 4,
 "nbformat_minor": 2
}
