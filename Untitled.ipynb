{
 "cells": [
  {
   "cell_type": "markdown",
   "metadata": {},
   "source": [
    "## Test XNAT Downloader"
   ]
  },
  {
   "cell_type": "code",
   "execution_count": 1,
   "metadata": {},
   "outputs": [],
   "source": [
    "from pyxnat import Interface\n",
    "import xmltodict\n",
    "import xnat_downloader.cli.run as run\n",
    "from pyxnat import Inspector\n",
    "import os"
   ]
  },
  {
   "cell_type": "code",
   "execution_count": 2,
   "metadata": {},
   "outputs": [],
   "source": [
    "xnat = Interface(\n",
    "              server='https://cnda.wustl.edu',\n",
    "              user='iturriamedina',\n",
    "              password='sheresada',\n",
    "              cachedir='/tmp'\n",
    "              )"
   ]
  },
  {
   "cell_type": "code",
   "execution_count": 3,
   "metadata": {},
   "outputs": [
    {
     "data": {
      "text/plain": [
       "True"
      ]
     },
     "execution_count": 3,
     "metadata": {},
     "output_type": "execute_result"
    }
   ],
   "source": [
    "project = 'DIANDF11'\n",
    "subject = 'CNDA_S26355'\n",
    "proj_obj = xnat.select.project(project)\n",
    "proj_obj.exists()"
   ]
  },
  {
   "cell_type": "code",
   "execution_count": 4,
   "metadata": {},
   "outputs": [],
   "source": [
    "testSub = run.Subject(proj_obj, subject)"
   ]
  },
  {
   "cell_type": "code",
   "execution_count": 5,
   "metadata": {},
   "outputs": [],
   "source": [
    "testSub.get_sessions()"
   ]
  },
  {
   "cell_type": "code",
   "execution_count": 6,
   "metadata": {},
   "outputs": [
    {
     "data": {
      "text/plain": [
       "{'ZJVKU1_v00_fdg': <Experiment Object> CNDA_E112287,\n",
       " 'ZJVKU1_v00_mr': <Experiment Object> CNDA_E101573,\n",
       " 'ZJVKU1_v00_pib': <Experiment Object> CNDA_E112292,\n",
       " 'ZJVKU1_v03_fdg': <Experiment Object> CNDA_E109491,\n",
       " 'ZJVKU1_v03_mr': <Experiment Object> CNDA_E101575,\n",
       " 'ZJVKU1_v03_pib': <Experiment Object> CNDA_E109468}"
      ]
     },
     "execution_count": 6,
     "metadata": {},
     "output_type": "execute_result"
    }
   ],
   "source": [
    "testSub.ses_dict"
   ]
  },
  {
   "cell_type": "code",
   "execution_count": 7,
   "metadata": {},
   "outputs": [],
   "source": [
    "testSub.get_scans(testSub.ses_dict.keys()[5])"
   ]
  },
  {
   "cell_type": "code",
   "execution_count": 8,
   "metadata": {},
   "outputs": [
    {
     "data": {
      "text/plain": [
       "{'Axial T2-FLAIR': <Scan Object> 6,\n",
       " 'LOCALIZER': <Scan Object> 1,\n",
       " 'MPRAGE GRAPPA2': <Scan Object> 3,\n",
       " 'MPRAGE GRAPPA2 repeat': <Scan Object> 5,\n",
       " 'Mag_Images': <Scan Object> 7,\n",
       " 'MoCoSeries': <Scan Object> 12,\n",
       " 'Pha_Images': <Scan Object> 8,\n",
       " 'SWI_Images': <Scan Object> 10,\n",
       " 'mIP_Images(SW)': <Scan Object> 9,\n",
       " 'resting state fMRI': <Scan Object> 11}"
      ]
     },
     "execution_count": 8,
     "metadata": {},
     "output_type": "execute_result"
    }
   ],
   "source": [
    "testSub.scan_dict"
   ]
  },
  {
   "cell_type": "code",
   "execution_count": 10,
   "metadata": {},
   "outputs": [
    {
     "ename": "AttributeError",
     "evalue": "'NoneType' object has no attribute 'groups'",
     "output_type": "error",
     "traceback": [
      "\u001b[0;31m---------------------------------------------------------------------------\u001b[0m",
      "\u001b[0;31mAttributeError\u001b[0m                            Traceback (most recent call last)",
      "\u001b[0;32m<ipython-input-10-804b2777ae34>\u001b[0m in \u001b[0;36m<module>\u001b[0;34m()\u001b[0m\n\u001b[0;32m----> 1\u001b[0;31m \u001b[0mtestSub\u001b[0m\u001b[0;34m.\u001b[0m\u001b[0mdownload_scan\u001b[0m\u001b[0;34m(\u001b[0m\u001b[0;34m'resting state fMRI'\u001b[0m\u001b[0;34m,\u001b[0m \u001b[0;34m'~/DIAN/testDownload'\u001b[0m\u001b[0;34m)\u001b[0m\u001b[0;34m\u001b[0m\u001b[0m\n\u001b[0m",
      "\u001b[0;32m/home/users/llevitis/anaconda3/envs/py27/lib/python2.7/site-packages/xnat_downloader-0.1-py2.7.egg/xnat_downloader/cli/run.pyc\u001b[0m in \u001b[0;36mdownload_scan\u001b[0;34m(self, scan, dest, sub_label_prefix)\u001b[0m\n\u001b[1;32m    449\u001b[0m \u001b[0;34m\u001b[0m\u001b[0m\n\u001b[1;32m    450\u001b[0m         \u001b[0msub_ses_pattern\u001b[0m \u001b[0;34m=\u001b[0m \u001b[0mre\u001b[0m\u001b[0;34m.\u001b[0m\u001b[0mcompile\u001b[0m\u001b[0;34m(\u001b[0m\u001b[0;34mr'(sub-[A-Za-z0-9]+)_?(ses-[A-Za-z0-9]+)?'\u001b[0m\u001b[0;34m)\u001b[0m\u001b[0;34m\u001b[0m\u001b[0m\n\u001b[0;32m--> 451\u001b[0;31m         \u001b[0msub_name\u001b[0m\u001b[0;34m,\u001b[0m \u001b[0mses_name\u001b[0m \u001b[0;34m=\u001b[0m \u001b[0mre\u001b[0m\u001b[0;34m.\u001b[0m\u001b[0msearch\u001b[0m\u001b[0;34m(\u001b[0m\u001b[0msub_ses_pattern\u001b[0m\u001b[0;34m,\u001b[0m \u001b[0mses_dir\u001b[0m\u001b[0;34m)\u001b[0m\u001b[0;34m.\u001b[0m\u001b[0mgroups\u001b[0m\u001b[0;34m(\u001b[0m\u001b[0;34m)\u001b[0m\u001b[0;34m\u001b[0m\u001b[0m\n\u001b[0m\u001b[1;32m    452\u001b[0m \u001b[0;34m\u001b[0m\u001b[0m\n\u001b[1;32m    453\u001b[0m         \u001b[0mscan_pattern\u001b[0m \u001b[0;34m=\u001b[0m \u001b[0mre\u001b[0m\u001b[0;34m.\u001b[0m\u001b[0mcompile\u001b[0m\u001b[0;34m(\u001b[0m\u001b[0mSCAN_EXPR\u001b[0m\u001b[0;34m)\u001b[0m\u001b[0;34m\u001b[0m\u001b[0m\n",
      "\u001b[0;31mAttributeError\u001b[0m: 'NoneType' object has no attribute 'groups'"
     ]
    }
   ],
   "source": [
    "testSub.download_scan('resting state fMRI', '~/DIAN/testDownload')"
   ]
  },
  {
   "cell_type": "code",
   "execution_count": null,
   "metadata": {},
   "outputs": [],
   "source": []
  },
  {
   "cell_type": "code",
   "execution_count": null,
   "metadata": {},
   "outputs": [],
   "source": []
  }
 ],
 "metadata": {
  "kernelspec": {
   "display_name": "Python 2",
   "language": "python",
   "name": "python2"
  },
  "language_info": {
   "codemirror_mode": {
    "name": "ipython",
    "version": 2
   },
   "file_extension": ".py",
   "mimetype": "text/x-python",
   "name": "python",
   "nbconvert_exporter": "python",
   "pygments_lexer": "ipython2",
   "version": "2.7.15"
  }
 },
 "nbformat": 4,
 "nbformat_minor": 2
}
